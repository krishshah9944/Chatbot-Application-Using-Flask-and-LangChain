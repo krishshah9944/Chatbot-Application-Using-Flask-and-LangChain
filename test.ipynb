{
 "cells": [
  {
   "cell_type": "code",
   "execution_count": 1,
   "metadata": {},
   "outputs": [],
   "source": [
    "import os \n",
    "from dotenv import load_dotenv\n",
    "load_dotenv()\n",
    "os.environ[\"GOOGLE_API_KEY\"]=os.getenv(\"GOOGLE_API_KEY\")"
   ]
  },
  {
   "cell_type": "code",
   "execution_count": 2,
   "metadata": {},
   "outputs": [],
   "source": [
    "from langchain_google_genai import GoogleGenerativeAIEmbeddings\n",
    "\n",
    "embeddings = GoogleGenerativeAIEmbeddings(model = \"models/embedding-001\")"
   ]
  },
  {
   "cell_type": "code",
   "execution_count": 4,
   "metadata": {},
   "outputs": [],
   "source": [
    "from langchain_community.document_loaders import UnstructuredURLLoader\n",
    "urls=[\"https://brainlox.com/courses/category/technical\"]"
   ]
  },
  {
   "cell_type": "code",
   "execution_count": 5,
   "metadata": {},
   "outputs": [
    {
     "data": {
      "text/plain": [
       "Document(metadata={'source': 'https://brainlox.com/courses/category/technical'}, page_content='Courses\\n\\nTechnical\\n\\nAcademic\\n\\nLanguage\\n\\nMusic\\n\\nLifestyle\\n\\nBook a Free Demo Now\\n\\nSign In\\n\\nFAQ\\n\\nContact Us\\n\\nHome\\n\\nCourses\\n\\nCourses\\n\\nWe found great courses available for you\\n\\n$20 per session\\n\\nLEARN SCRATCH PROGRAMING\\n\\nScratch Course is the foundation of coding and is a building block of a coding journey. If you want\\n\\n16 Lessons\\n\\nView Details\\n\\n$30 per session\\n\\nLEARN CLOUD COMPUTING BASICS-AWS\\n\\nIn this course we are going to cover the basics and the most important services on AWS, At the end\\n\\n20 Lessons\\n\\nView Details\\n\\n$20 per session\\n\\nLEARN MOBILE DEVELOPMENT\\n\\nMobile application development is the process of creating software applications that run on a mobil\\n\\n24 Lessons\\n\\nView Details\\n\\n$20 per session\\n\\nLEARN CORE JAVA PROGRAMMING ONLINE\\n\\nJava is a very popular high-level, class-based, object-oriented programming language that is design\\n\\n41 Lessons\\n\\nView Details\\n\\n$20 per session\\n\\nLEARN ROBOTICS\\n\\nYou can open all kinds of doors for advancement in so many careers with a basic understanding of el\\n\\n25 Lessons\\n\\nView Details\\n\\n$20 per session\\n\\nLEARN JAVASCRIPT\\n\\nJavaScript is the most popular programming language in the world. It powers the entire modern web.\\n\\n18 Lessons\\n\\nView Details\\n\\n$20 per session\\n\\nLEARN NODE JS\\n\\nNode.js developers are in high demand and the language is used for everything from traditional web\\n\\n18 Lessons\\n\\nView Details\\n\\n$35 per session\\n\\nLEARN CLOUD COMPUTING ADVANCE-AWS\\n\\nDESCRIPTION This introduction to cloud computing on Amazon AWS course takes you from the AWS Ad\\n\\n18 Lessons\\n\\nView Details\\n\\n$20 per session\\n\\nPYTHON PROGRAMMING-BEGINNER\\n\\nPython is a language with simple syntax, and a powerful set of libraries. It has a rich programming\\n\\n16 Lessons\\n\\nView Details\\n\\n$30 per session\\n\\nRoblox Programming For Beginners\\n\\nExplore the dynamic universe of game development with our \"Roblox Game Development Fundamentals\" cou\\n\\n15 Lessons\\n\\nView Details\\n\\n$20 per session\\n\\nPYTHON PROGRAMMING-INTERMEDIATE\\n\\nTake your python skills to the next level and start building real applications. Python is a pro\\n\\n16 Lessons\\n\\nView Details\\n\\n$25 per session\\n\\nPYTHON PROGRAMMING-ADVANCE\\n\\nIf you already know Python basics, then this training is the next step in your Python learning path\\n\\n30 Lessons\\n\\nView Details\\n\\n$20 per session\\n\\nPYTHON PROGRAMMING GROUP CLASSES - BEGINNER\\n\\nPython is a language with simple syntax, and a powerful set of libraries. It has a rich programming\\n\\n16 Lessons\\n\\nView Details\\n\\n$30 per session\\n\\nAdvanced Roblox Scripting Workshop\\n\\n\"Are you ready to unlock the full potential of your Roblox game development skills? Join our Interme\\n\\n14 Lessons\\n\\nView Details\\n\\n$20 per session\\n\\nRobotics Adventure Awaits:Join Our Summer Camp for Young Tech Wizards!\\n\\nThis course is designed to introduce beginners to the world of robotics. Learners will be taught the\\n\\n16 Lessons\\n\\nView Details\\n\\n$20 per session\\n\\nJava Project-Based Course\\n\\nJava Project-Based Course for Intermediate Level Students ;Overview: This course is designed for int\\n\\n7 Lessons\\n\\nView Details\\n\\n$22 per session\\n\\nArtificial Intelligence Adventures: Building AI Chatbot Like Chatgpt (For Kids)\\n\\nUnlock the power of AI chatbots in our 10-day course! Gain comprehensive knowledge of chatbot develo\\n\\n10 Lessons\\n\\nView Details\\n\\n$20 per session\\n\\nPython Playground: Create a Hangman Game\\n\\nPython Playground : Create a Hangman Game is an exciting and engaging course designed specifically f\\n\\n8 Lessons\\n\\nView Details\\n\\n$20 per session\\n\\nScratch Playground: Create a Maze Game!\\n\\nScratch Playground : Create a Maze Game! is a beginner-level course designed to introduce kids to th\\n\\n8 Lessons\\n\\nView Details\\n\\n$13 per session\\n\\nArtificial Intelligence Essentials: Summer Bootcamp\\n\\nJoin us for this engaging 5-day summer bootcamp where we will explore the fascinating world of Artif\\n\\n5 Lessons\\n\\nView Details\\n\\n$25 per session\\n\\nTime Mastery Camp: AI for Jobs, Business, Careers\\n\\nThe \"AI for Productivity and Time Management\" course: 🚀💡 Day 1: Introduction to AI and its Applica\\n\\n11 Lessons\\n\\nView Details\\n\\n$20 per session\\n\\nBuild Your Own Theme Park in Roblox\\n\\nRoblox Studio fundamentals are taught through fun and interactive projects. Lectures, projects, hand\\n\\n8 Lessons\\n\\nView Details\\n\\n$12 per session\\n\\nJava Coding Summer Camp for Young Minds\\n\\nJava Journey: Coding Camp for Curious Minds\" is a fun-filled, 5-day adventure into the world of prog\\n\\n5 Lessons\\n\\nView Details\\n\\n$25 per session\\n\\nAI Camp for Entrepreneurs: Build Business Success\\n\\nWelcome to the world of AI in entrepreneurship! In this course, we will embark on a thrilling journ\\n\\n7 Lessons\\n\\nView Details\\n\\n$12 per session\\n\\nChatGPT Boot Camp: Basics & Best Uses\\n\\nJoin us for an exciting journey into the world of AI chatbots with this 5-day bootcamp. You\\'ll learn\\n\\n5 Lessons\\n\\nView Details\\n\\n$13 per session\\n\\nCreate-A-Bot: A Project-Based Robotics Exploration\\n\\nIgnite your child\\'s tech curiosity with our \"RoboRacers\" camp! Over five days, campers will delve in\\n\\n5 Lessons\\n\\nView Details\\n\\n$20 per session\\n\\nJava & Proramming\\n\\n\" Project outline for JAVA PROJECT BASED BOOTCAMP 1: Introduction to Java and Programming Basics. 2.\\n\\n8 Lessons\\n\\nView Details\\n\\n$13 per session\\n\\nChatbot Creators: Design a ChatGPT-like AI\\n\\nJoin us on a 7-day bootcamp to step into the world of AI and create your own chatbot like ChatGPT. Y\\n\\n7 Lessons\\n\\nView Details\\n\\n$30 per session\\n\\nWeb Development from scratch\\n\\nUnlock the boundless potential of web development with our \"Web Development Essentials\" course. Whet\\n\\n6 Lessons\\n\\nView Details\\n\\n$11 per session\\n\\nSummer Camp: Introduction to Python\\n\\nStep into our 7-day \"Python Project Playground\" camp where coding meets creativity! Kids will explor\\n\\n7 Lessons\\n\\nView Details\\n\\n$22 per session\\n\\nAI Secrets Revealed: Master Productivity Hacks That Will Blow Your Mind! (For Kids)\\n\\nBoost your productivity with AI! Join our \"AI for Productivity and Time Management\" course and lea\\n\\n11 Lessons\\n\\nView Details\\n\\n$12 per session\\n\\nSummer Bootcamp with JavaScript: Real Projects, Real Results\\n\\nIn this 5-day camp, you\\'ll dive headfirst into JavaScript, one of the world\\'s most popular programmi\\n\\n5 Lessons\\n\\nView Details\\n\\n$22 per session\\n\\nAI Disruption: Top Entrepreneurs Harnessing AI for Unprecedented Success! (For Kids)\\n\\nUnderstand the role and potential of AI in entrepreneurship, learn the fundamentals, explore data ac\\n\\n7 Lessons\\n\\nView Details\\n\\n$22 per session\\n\\nThe AI Writer\\'s Masterclass: Innovation and Inspiration in Creative Writing! (For Kids)\\n\\nEnhance your creative writing skills with AI! Join our 10-day course and explore AI\\'s role in writin\\n\\n10 Lessons\\n\\nView Details\\n\\n$30 per session\\n\\nWeb Development Pro: Intermediate Level\\n\\nReady to unlock the full potential of web development? Join our \"Intermediate Web Development Master\\n\\n8 Lessons\\n\\nView Details\\n\\n$20 per session\\n\\nScratch Playground: Create a Scroller Game!\\n\\nScratch Playground : Create a Scroller Game is an intermediate level course designed to teach kids t\\n\\n8 Lessons\\n\\nView Details\\n\\n$25 per session\\n\\nAI Pro: Creative Writing Camp for Adults\\n\\n🚀 Welcome to Creative Writing with AI for ADULTS! Unleash your creativity with cutting-edge AI tec\\n\\n10 Lessons\\n\\nView Details\\n\\n$20 per session\\n\\nPython Playground: Create Your Own Snake Game\\n\\nThrough this course, participants will learn the fundamentals of Python programming language, as wel\\n\\n8 Lessons\\n\\nView Details\\n\\n$20 per session\\n\\nBuild your own Calculator using Python Bootcamp for kids\\n\\nThis bootcamp is a fun and engaging program designed to introduce children to the basics of programm\\n\\n8 Lessons\\n\\nView Details\\n\\n$20 per session\\n\\nPython Playground: Create a Tic Tac Toe Game\\n\\nAn interactive and hands-on tutorial designed to help learners build their programming skills while\\n\\n8 Lessons\\n\\nView Details\\n\\n$20 per session\\n\\nScratch Playground: Create a Flappy Bird Game!\\n\\nScratch Playground 103: Create a Flappy Bird is a beginner to intermediate level course designed to\\n\\n8 Lessons\\n\\nView Details\\n\\n$12 per session\\n\\nHTML, CSS, JavaScript: 7-Day Summer Bootcamp\\n\\nJump into the vibrant world of coding with our engaging 7-day summer camp! Starting from scratch, yo\\n\\n7 Lessons\\n\\nView Details\\n\\n$11 per session\\n\\nHands-on Java: Project-based Learning for Coding Novices\\n\\nEmbark on a coding adventure with our \"Code, Create, Conquer\" Java camp! In just 7 days, kids will l\\n\\n7 Lessons\\n\\nView Details\\n\\n$20 per session\\n\\nPython Playground: Create a Memory Game\\n\\nPython Playground: Create a Memory Game is a beginner-level course designed for kids who are interes\\n\\n8 Lessons\\n\\nView Details\\n\\n$12 per session\\n\\nSummer Bootcamp: 5-Day Scratch Programming for Beginners\\n\\nEmbark on an exciting coding adventure with our 5-day Scratch Programming camp! Designed for beginne\\n\\n5 Lessons\\n\\nView Details\\n\\n$12 per session\\n\\n5-Day Summer Camp: Python for Beginners\\n\\nDive into coding with our 5-day \"Python Playground\" camp! Kids will explore Python, a popular langua\\n\\n5 Lessons\\n\\nView Details\\n\\n$20 per session\\n\\nBuild a Text analyzer using Python Bootcamp for kids\\n\\nThe Build a Text Analyzer using Python Bootcamp for Kids is an educational program designed to intro\\n\\n8 Lessons\\n\\nView Details\\n\\n$20 per session\\n\\nScratch Playground : Create a Platformer Game!\\n\\nScratch Playground : Create a Platformer Game is an intermediate level course designed to teach kids\\n\\n8 Lessons\\n\\nView Details\\n\\n$30 per session\\n\\nIntroduction to Artificial Intelligence!\\n\\nWelcome to the \"Introduction to Artificial Intelligence and Python\" course! This course is designed\\n\\n5 Lessons\\n\\nView Details\\n\\n$20 per session\\n\\nPython Playground: Create a Rock, Paper, Scissors Game\\n\\nThis is an engaging course designed for kids who are interested in learning programming with Python.\\n\\n8 Lessons\\n\\nView Details\\n\\n$25 per session\\n\\nAI in Stock Market Success: Career Growth Camp !!\\n\\nAre you ready to unlock the secrets of predicting stock prices using AI? 📈🤖 Join our immersive cou\\n\\n10 Lessons\\n\\nView Details\\n\\n$22 per session\\n\\nFrom Beginner to AI Pro: Kickstart Your Journey With Artificial Intelligence! (For Kids)\\n\\nDive into the world of AI! 🤖 Join our \"Introduction to Artificial Intelligence\" course and unlock t\\n\\n20 Lessons\\n\\nView Details\\n\\n$30 per session\\n\\nGame development using python\\n\\nWelcome to the \"Introduction to Python Game Development\" course! In this course, you\\'ll embark on a\\n\\n4 Lessons\\n\\nView Details\\n\\n$20 per session\\n\\nBuild a Image manipulator using Python Bootcamp for kids\\n\\nThe Build a Image Manipulator using Python Bootcamp for Kids is a program designed to introduce chil\\n\\n8 Lessons\\n\\nView Details\\n\\n$20 per session\\n\\nBuild a Weather app using Python Bootcamp for kids\\n\\nBuild a Weather App using Python Bootcamp for Kids is an educational program designed to introduce y\\n\\n8 Lessons\\n\\nView Details\\n\\n$20 per session\\n\\nBuild Your Own Roblox Battle Arena\\n\\nRoblox Studio fundamentals are taught through fun and interactive projects. Lectures, projects, hand\\n\\n8 Lessons\\n\\nView Details\\n\\n$22 per session\\n\\nThe Millionaire\\'s AI Playbook: Learn How to Predict Stock Prices! (For Kids)\\n\\nLearn to predict stock prices using the incredible potential of AI and machine learning in our compr\\n\\n10 Lessons\\n\\nView Details\\n\\n$11 per session\\n\\nMachine Learning: 7-Day Project-Based Summer Camp\\n\\nJoin our \"Machine Learning Mania\" camp for a 7-day tech adventure! Kids will tackle machine learning\\n\\n7 Lessons\\n\\nView Details\\n\\n$25 per session\\n\\nAI Pro Camp: Career Growth Catalyst\\n\\nOur Intro to AI for Adults course is designed to equip professionals with essential knowledge and pr\\n\\n20 Lessons\\n\\nView Details\\n\\n$20 per session\\n\\nMinecraft Java Programming for Beginners\\n\\nSession-1: Introduction to Java programming and Minecraft. Lesson 2: Getting Started in Creative Mod\\n\\n7 Lessons\\n\\nView Details\\n\\n$20 per session\\n\\nBuild a Chatbot using Python Bootcamp for kids\\n\\nThis bootcamp is a fun and interactive program designed to teach children how to create their own ch\\n\\n8 Lessons\\n\\nView Details\\n\\n$20 per session\\n\\nBuild a Password generator using Python Bootcamp for kids\\n\\nWelcome to the Build a Password Generator using Python Bootcamp for Kids! In this bootcamp, you will\\n\\n8 Lessons\\n\\nView Details\\n\\n$20 per session\\n\\nScratch Playground: Create a Space Game!\\n\\nScratch Playground : Create a Space Game is an intermediate-level course designed to introduce kids\\n\\n8 Lessons\\n\\nView Details\\n\\n$20 per session\\n\\nCreate Your Own Roblox Obstacle Course\\n\\nRoblox enthusiasts who want to learn how to design and build their own custom obstacle courses withi\\n\\n8 Lessons\\n\\nView Details\\n\\n$20 per session\\n\\nJava Minecraft Creative or Survival Mode\\n\\n1. Title: Minecraft Java Programming for Beginners Overview: This class is designed for complete beg\\n\\n7 Lessons\\n\\nView Details\\n\\n$25 per session\\n\\nAI Camp for Jobs & Business:Build Your own ChatGPT\\n\\n🌟Welcome to the Chatbot Mastery Course! 🎓 Get ready to unlock the secrets of building intelligent\\n\\n10 Lessons\\n\\nView Details\\n\\n$13 per session\\n\\nHTML, CSS, JavaScript Essentials: 5-Day Coding Bootcamp\\n\\nUnleash your creativity in our fun and interactive 5-day summer camp. No prior experience needed. Yo\\n\\n5 Lessons\\n\\nView Details\\n\\nWorking to bring significant changes in online-based learning by doing extensive research for course curriculum preparation, student engagements, and looking forward to the flexible education!\\n\\nExplore\\n\\nHome\\n\\nCourses\\n\\nGift a Course\\n\\nShare a Message\\n\\nResources\\n\\nFAQ\\n\\nContact\\n\\nAddress\\n\\nUSA\\n\\n(+1) 414 429 3937\\n\\nsupport@brainlox.com\\n\\n(+1) 414 429 3937\\n\\n2025 Brainlox\\n\\nPrivacy Policy\\n\\nTerms & Conditions')"
      ]
     },
     "execution_count": 5,
     "metadata": {},
     "output_type": "execute_result"
    }
   ],
   "source": [
    "loader = UnstructuredURLLoader(urls=urls)\n",
    "data=loader.load()\n",
    "\n",
    "data[0]\n"
   ]
  },
  {
   "cell_type": "code",
   "execution_count": 6,
   "metadata": {},
   "outputs": [],
   "source": [
    "from langchain_community.vectorstores import FAISS\n",
    "vectorstoredb=FAISS.from_documents(data,embeddings)"
   ]
  },
  {
   "cell_type": "code",
   "execution_count": 7,
   "metadata": {},
   "outputs": [
    {
     "data": {
      "text/plain": [
       "<langchain_community.vectorstores.faiss.FAISS at 0x30167c1d0>"
      ]
     },
     "execution_count": 7,
     "metadata": {},
     "output_type": "execute_result"
    }
   ],
   "source": [
    "vectorstoredb"
   ]
  },
  {
   "cell_type": "code",
   "execution_count": 8,
   "metadata": {},
   "outputs": [],
   "source": [
    "from langchain_google_genai import ChatGoogleGenerativeAI\n",
    "import google.generativeai as genai"
   ]
  },
  {
   "cell_type": "code",
   "execution_count": 9,
   "metadata": {},
   "outputs": [],
   "source": [
    "genai.configure(api_key=os.getenv(\"GOOGLE_API_KEY\"))"
   ]
  },
  {
   "cell_type": "code",
   "execution_count": 16,
   "metadata": {},
   "outputs": [],
   "source": [
    "llm=ChatGoogleGenerativeAI(model='gemini-1.5-flash')"
   ]
  },
  {
   "cell_type": "code",
   "execution_count": 18,
   "metadata": {},
   "outputs": [],
   "source": [
    "from langchain_core.prompts import ChatPromptTemplate\n",
    "from langchain_text_splitters import RecursiveCharacterTextSplitter\n",
    "from langchain.chains import create_retrieval_chain\n",
    "from langchain.chains.combine_documents import create_stuff_documents_chain"
   ]
  },
  {
   "cell_type": "code",
   "execution_count": 19,
   "metadata": {},
   "outputs": [
    {
     "data": {
      "text/plain": [
       "VectorStoreRetriever(tags=['FAISS', 'GoogleGenerativeAIEmbeddings'], vectorstore=<langchain_community.vectorstores.faiss.FAISS object at 0x308f76360>, search_kwargs={})"
      ]
     },
     "execution_count": 19,
     "metadata": {},
     "output_type": "execute_result"
    }
   ],
   "source": [
    "text_splitter=RecursiveCharacterTextSplitter(chunk_size=1000,chunk_overlap=200)\n",
    "splits=text_splitter.split_documents(data)\n",
    "vectorstoredb=FAISS.from_documents(data,embeddings)\n",
    "retriever=vectorstoredb.as_retriever()\n",
    "retriever"
   ]
  },
  {
   "cell_type": "code",
   "execution_count": 21,
   "metadata": {},
   "outputs": [],
   "source": [
    "system_prompt = (\n",
    "    \"You are an assistant for question-answering tasks. \"\n",
    "    \"Use the following pieces of retrieved context to answer \"\n",
    "    \"the question. If you don't know the answer, say that you \"\n",
    "    \"don't know. Use three sentences maximum and keep the \"\n",
    "    \"answer concise.\"\n",
    "    \"\\n\\n\"\n",
    "    \"{context}\"\n",
    ")\n",
    "\n",
    "prompt = ChatPromptTemplate.from_messages(\n",
    "    [\n",
    "        (\"system\", system_prompt),\n",
    "        (\"human\", \"{input}\"),\n",
    "    ]\n",
    ")"
   ]
  },
  {
   "cell_type": "code",
   "execution_count": 22,
   "metadata": {},
   "outputs": [],
   "source": [
    "question_answer_chain=create_stuff_documents_chain(llm,prompt)\n",
    "rag_chain=create_retrieval_chain(retriever,question_answer_chain)"
   ]
  },
  {
   "cell_type": "code",
   "execution_count": null,
   "metadata": {},
   "outputs": [],
   "source": []
  },
  {
   "cell_type": "code",
   "execution_count": null,
   "metadata": {},
   "outputs": [
    {
     "data": {
      "text/plain": [
       "{'input': 'How many lessons are there in LEARN CORE JAVA PROGRAMMING ONLINE',\n",
       " 'context': [Document(metadata={'source': 'https://brainlox.com/courses/category/technical'}, page_content='Courses\\n\\nTechnical\\n\\nAcademic\\n\\nLanguage\\n\\nMusic\\n\\nLifestyle\\n\\nBook a Free Demo Now\\n\\nSign In\\n\\nFAQ\\n\\nContact Us\\n\\nHome\\n\\nCourses\\n\\nCourses\\n\\nWe found great courses available for you\\n\\n$20 per session\\n\\nLEARN SCRATCH PROGRAMING\\n\\nScratch Course is the foundation of coding and is a building block of a coding journey. If you want\\n\\n16 Lessons\\n\\nView Details\\n\\n$30 per session\\n\\nLEARN CLOUD COMPUTING BASICS-AWS\\n\\nIn this course we are going to cover the basics and the most important services on AWS, At the end\\n\\n20 Lessons\\n\\nView Details\\n\\n$20 per session\\n\\nLEARN MOBILE DEVELOPMENT\\n\\nMobile application development is the process of creating software applications that run on a mobil\\n\\n24 Lessons\\n\\nView Details\\n\\n$20 per session\\n\\nLEARN CORE JAVA PROGRAMMING ONLINE\\n\\nJava is a very popular high-level, class-based, object-oriented programming language that is design\\n\\n41 Lessons\\n\\nView Details\\n\\n$20 per session\\n\\nLEARN ROBOTICS\\n\\nYou can open all kinds of doors for advancement in so many careers with a basic understanding of el\\n\\n25 Lessons\\n\\nView Details\\n\\n$20 per session\\n\\nLEARN JAVASCRIPT\\n\\nJavaScript is the most popular programming language in the world. It powers the entire modern web.\\n\\n18 Lessons\\n\\nView Details\\n\\n$20 per session\\n\\nLEARN NODE JS\\n\\nNode.js developers are in high demand and the language is used for everything from traditional web\\n\\n18 Lessons\\n\\nView Details\\n\\n$35 per session\\n\\nLEARN CLOUD COMPUTING ADVANCE-AWS\\n\\nDESCRIPTION This introduction to cloud computing on Amazon AWS course takes you from the AWS Ad\\n\\n18 Lessons\\n\\nView Details\\n\\n$20 per session\\n\\nPYTHON PROGRAMMING-BEGINNER\\n\\nPython is a language with simple syntax, and a powerful set of libraries. It has a rich programming\\n\\n16 Lessons\\n\\nView Details\\n\\n$30 per session\\n\\nRoblox Programming For Beginners\\n\\nExplore the dynamic universe of game development with our \"Roblox Game Development Fundamentals\" cou\\n\\n15 Lessons\\n\\nView Details\\n\\n$20 per session\\n\\nPYTHON PROGRAMMING-INTERMEDIATE\\n\\nTake your python skills to the next level and start building real applications. Python is a pro\\n\\n16 Lessons\\n\\nView Details\\n\\n$25 per session\\n\\nPYTHON PROGRAMMING-ADVANCE\\n\\nIf you already know Python basics, then this training is the next step in your Python learning path\\n\\n30 Lessons\\n\\nView Details\\n\\n$20 per session\\n\\nPYTHON PROGRAMMING GROUP CLASSES - BEGINNER\\n\\nPython is a language with simple syntax, and a powerful set of libraries. It has a rich programming\\n\\n16 Lessons\\n\\nView Details\\n\\n$30 per session\\n\\nAdvanced Roblox Scripting Workshop\\n\\n\"Are you ready to unlock the full potential of your Roblox game development skills? Join our Interme\\n\\n14 Lessons\\n\\nView Details\\n\\n$20 per session\\n\\nRobotics Adventure Awaits:Join Our Summer Camp for Young Tech Wizards!\\n\\nThis course is designed to introduce beginners to the world of robotics. Learners will be taught the\\n\\n16 Lessons\\n\\nView Details\\n\\n$20 per session\\n\\nJava Project-Based Course\\n\\nJava Project-Based Course for Intermediate Level Students ;Overview: This course is designed for int\\n\\n7 Lessons\\n\\nView Details\\n\\n$22 per session\\n\\nArtificial Intelligence Adventures: Building AI Chatbot Like Chatgpt (For Kids)\\n\\nUnlock the power of AI chatbots in our 10-day course! Gain comprehensive knowledge of chatbot develo\\n\\n10 Lessons\\n\\nView Details\\n\\n$20 per session\\n\\nPython Playground: Create a Hangman Game\\n\\nPython Playground : Create a Hangman Game is an exciting and engaging course designed specifically f\\n\\n8 Lessons\\n\\nView Details\\n\\n$20 per session\\n\\nScratch Playground: Create a Maze Game!\\n\\nScratch Playground : Create a Maze Game! is a beginner-level course designed to introduce kids to th\\n\\n8 Lessons\\n\\nView Details\\n\\n$13 per session\\n\\nArtificial Intelligence Essentials: Summer Bootcamp\\n\\nJoin us for this engaging 5-day summer bootcamp where we will explore the fascinating world of Artif\\n\\n5 Lessons\\n\\nView Details\\n\\n$25 per session\\n\\nTime Mastery Camp: AI for Jobs, Business, Careers\\n\\nThe \"AI for Productivity and Time Management\" course: 🚀💡 Day 1: Introduction to AI and its Applica\\n\\n11 Lessons\\n\\nView Details\\n\\n$20 per session\\n\\nBuild Your Own Theme Park in Roblox\\n\\nRoblox Studio fundamentals are taught through fun and interactive projects. Lectures, projects, hand\\n\\n8 Lessons\\n\\nView Details\\n\\n$12 per session\\n\\nJava Coding Summer Camp for Young Minds\\n\\nJava Journey: Coding Camp for Curious Minds\" is a fun-filled, 5-day adventure into the world of prog\\n\\n5 Lessons\\n\\nView Details\\n\\n$25 per session\\n\\nAI Camp for Entrepreneurs: Build Business Success\\n\\nWelcome to the world of AI in entrepreneurship! In this course, we will embark on a thrilling journ\\n\\n7 Lessons\\n\\nView Details\\n\\n$12 per session\\n\\nChatGPT Boot Camp: Basics & Best Uses\\n\\nJoin us for an exciting journey into the world of AI chatbots with this 5-day bootcamp. You\\'ll learn\\n\\n5 Lessons\\n\\nView Details\\n\\n$13 per session\\n\\nCreate-A-Bot: A Project-Based Robotics Exploration\\n\\nIgnite your child\\'s tech curiosity with our \"RoboRacers\" camp! Over five days, campers will delve in\\n\\n5 Lessons\\n\\nView Details\\n\\n$20 per session\\n\\nJava & Proramming\\n\\n\" Project outline for JAVA PROJECT BASED BOOTCAMP 1: Introduction to Java and Programming Basics. 2.\\n\\n8 Lessons\\n\\nView Details\\n\\n$13 per session\\n\\nChatbot Creators: Design a ChatGPT-like AI\\n\\nJoin us on a 7-day bootcamp to step into the world of AI and create your own chatbot like ChatGPT. Y\\n\\n7 Lessons\\n\\nView Details\\n\\n$30 per session\\n\\nWeb Development from scratch\\n\\nUnlock the boundless potential of web development with our \"Web Development Essentials\" course. Whet\\n\\n6 Lessons\\n\\nView Details\\n\\n$11 per session\\n\\nSummer Camp: Introduction to Python\\n\\nStep into our 7-day \"Python Project Playground\" camp where coding meets creativity! Kids will explor\\n\\n7 Lessons\\n\\nView Details\\n\\n$22 per session\\n\\nAI Secrets Revealed: Master Productivity Hacks That Will Blow Your Mind! (For Kids)\\n\\nBoost your productivity with AI! Join our \"AI for Productivity and Time Management\" course and lea\\n\\n11 Lessons\\n\\nView Details\\n\\n$12 per session\\n\\nSummer Bootcamp with JavaScript: Real Projects, Real Results\\n\\nIn this 5-day camp, you\\'ll dive headfirst into JavaScript, one of the world\\'s most popular programmi\\n\\n5 Lessons\\n\\nView Details\\n\\n$22 per session\\n\\nAI Disruption: Top Entrepreneurs Harnessing AI for Unprecedented Success! (For Kids)\\n\\nUnderstand the role and potential of AI in entrepreneurship, learn the fundamentals, explore data ac\\n\\n7 Lessons\\n\\nView Details\\n\\n$22 per session\\n\\nThe AI Writer\\'s Masterclass: Innovation and Inspiration in Creative Writing! (For Kids)\\n\\nEnhance your creative writing skills with AI! Join our 10-day course and explore AI\\'s role in writin\\n\\n10 Lessons\\n\\nView Details\\n\\n$30 per session\\n\\nWeb Development Pro: Intermediate Level\\n\\nReady to unlock the full potential of web development? Join our \"Intermediate Web Development Master\\n\\n8 Lessons\\n\\nView Details\\n\\n$20 per session\\n\\nScratch Playground: Create a Scroller Game!\\n\\nScratch Playground : Create a Scroller Game is an intermediate level course designed to teach kids t\\n\\n8 Lessons\\n\\nView Details\\n\\n$25 per session\\n\\nAI Pro: Creative Writing Camp for Adults\\n\\n🚀 Welcome to Creative Writing with AI for ADULTS! Unleash your creativity with cutting-edge AI tec\\n\\n10 Lessons\\n\\nView Details\\n\\n$20 per session\\n\\nPython Playground: Create Your Own Snake Game\\n\\nThrough this course, participants will learn the fundamentals of Python programming language, as wel\\n\\n8 Lessons\\n\\nView Details\\n\\n$20 per session\\n\\nBuild your own Calculator using Python Bootcamp for kids\\n\\nThis bootcamp is a fun and engaging program designed to introduce children to the basics of programm\\n\\n8 Lessons\\n\\nView Details\\n\\n$20 per session\\n\\nPython Playground: Create a Tic Tac Toe Game\\n\\nAn interactive and hands-on tutorial designed to help learners build their programming skills while\\n\\n8 Lessons\\n\\nView Details\\n\\n$20 per session\\n\\nScratch Playground: Create a Flappy Bird Game!\\n\\nScratch Playground 103: Create a Flappy Bird is a beginner to intermediate level course designed to\\n\\n8 Lessons\\n\\nView Details\\n\\n$12 per session\\n\\nHTML, CSS, JavaScript: 7-Day Summer Bootcamp\\n\\nJump into the vibrant world of coding with our engaging 7-day summer camp! Starting from scratch, yo\\n\\n7 Lessons\\n\\nView Details\\n\\n$11 per session\\n\\nHands-on Java: Project-based Learning for Coding Novices\\n\\nEmbark on a coding adventure with our \"Code, Create, Conquer\" Java camp! In just 7 days, kids will l\\n\\n7 Lessons\\n\\nView Details\\n\\n$20 per session\\n\\nPython Playground: Create a Memory Game\\n\\nPython Playground: Create a Memory Game is a beginner-level course designed for kids who are interes\\n\\n8 Lessons\\n\\nView Details\\n\\n$12 per session\\n\\nSummer Bootcamp: 5-Day Scratch Programming for Beginners\\n\\nEmbark on an exciting coding adventure with our 5-day Scratch Programming camp! Designed for beginne\\n\\n5 Lessons\\n\\nView Details\\n\\n$12 per session\\n\\n5-Day Summer Camp: Python for Beginners\\n\\nDive into coding with our 5-day \"Python Playground\" camp! Kids will explore Python, a popular langua\\n\\n5 Lessons\\n\\nView Details\\n\\n$20 per session\\n\\nBuild a Text analyzer using Python Bootcamp for kids\\n\\nThe Build a Text Analyzer using Python Bootcamp for Kids is an educational program designed to intro\\n\\n8 Lessons\\n\\nView Details\\n\\n$20 per session\\n\\nScratch Playground : Create a Platformer Game!\\n\\nScratch Playground : Create a Platformer Game is an intermediate level course designed to teach kids\\n\\n8 Lessons\\n\\nView Details\\n\\n$30 per session\\n\\nIntroduction to Artificial Intelligence!\\n\\nWelcome to the \"Introduction to Artificial Intelligence and Python\" course! This course is designed\\n\\n5 Lessons\\n\\nView Details\\n\\n$20 per session\\n\\nPython Playground: Create a Rock, Paper, Scissors Game\\n\\nThis is an engaging course designed for kids who are interested in learning programming with Python.\\n\\n8 Lessons\\n\\nView Details\\n\\n$25 per session\\n\\nAI in Stock Market Success: Career Growth Camp !!\\n\\nAre you ready to unlock the secrets of predicting stock prices using AI? 📈🤖 Join our immersive cou\\n\\n10 Lessons\\n\\nView Details\\n\\n$22 per session\\n\\nFrom Beginner to AI Pro: Kickstart Your Journey With Artificial Intelligence! (For Kids)\\n\\nDive into the world of AI! 🤖 Join our \"Introduction to Artificial Intelligence\" course and unlock t\\n\\n20 Lessons\\n\\nView Details\\n\\n$30 per session\\n\\nGame development using python\\n\\nWelcome to the \"Introduction to Python Game Development\" course! In this course, you\\'ll embark on a\\n\\n4 Lessons\\n\\nView Details\\n\\n$20 per session\\n\\nBuild a Image manipulator using Python Bootcamp for kids\\n\\nThe Build a Image Manipulator using Python Bootcamp for Kids is a program designed to introduce chil\\n\\n8 Lessons\\n\\nView Details\\n\\n$20 per session\\n\\nBuild a Weather app using Python Bootcamp for kids\\n\\nBuild a Weather App using Python Bootcamp for Kids is an educational program designed to introduce y\\n\\n8 Lessons\\n\\nView Details\\n\\n$20 per session\\n\\nBuild Your Own Roblox Battle Arena\\n\\nRoblox Studio fundamentals are taught through fun and interactive projects. Lectures, projects, hand\\n\\n8 Lessons\\n\\nView Details\\n\\n$22 per session\\n\\nThe Millionaire\\'s AI Playbook: Learn How to Predict Stock Prices! (For Kids)\\n\\nLearn to predict stock prices using the incredible potential of AI and machine learning in our compr\\n\\n10 Lessons\\n\\nView Details\\n\\n$11 per session\\n\\nMachine Learning: 7-Day Project-Based Summer Camp\\n\\nJoin our \"Machine Learning Mania\" camp for a 7-day tech adventure! Kids will tackle machine learning\\n\\n7 Lessons\\n\\nView Details\\n\\n$25 per session\\n\\nAI Pro Camp: Career Growth Catalyst\\n\\nOur Intro to AI for Adults course is designed to equip professionals with essential knowledge and pr\\n\\n20 Lessons\\n\\nView Details\\n\\n$20 per session\\n\\nMinecraft Java Programming for Beginners\\n\\nSession-1: Introduction to Java programming and Minecraft. Lesson 2: Getting Started in Creative Mod\\n\\n7 Lessons\\n\\nView Details\\n\\n$20 per session\\n\\nBuild a Chatbot using Python Bootcamp for kids\\n\\nThis bootcamp is a fun and interactive program designed to teach children how to create their own ch\\n\\n8 Lessons\\n\\nView Details\\n\\n$20 per session\\n\\nBuild a Password generator using Python Bootcamp for kids\\n\\nWelcome to the Build a Password Generator using Python Bootcamp for Kids! In this bootcamp, you will\\n\\n8 Lessons\\n\\nView Details\\n\\n$20 per session\\n\\nScratch Playground: Create a Space Game!\\n\\nScratch Playground : Create a Space Game is an intermediate-level course designed to introduce kids\\n\\n8 Lessons\\n\\nView Details\\n\\n$20 per session\\n\\nCreate Your Own Roblox Obstacle Course\\n\\nRoblox enthusiasts who want to learn how to design and build their own custom obstacle courses withi\\n\\n8 Lessons\\n\\nView Details\\n\\n$20 per session\\n\\nJava Minecraft Creative or Survival Mode\\n\\n1. Title: Minecraft Java Programming for Beginners Overview: This class is designed for complete beg\\n\\n7 Lessons\\n\\nView Details\\n\\n$25 per session\\n\\nAI Camp for Jobs & Business:Build Your own ChatGPT\\n\\n🌟Welcome to the Chatbot Mastery Course! 🎓 Get ready to unlock the secrets of building intelligent\\n\\n10 Lessons\\n\\nView Details\\n\\n$13 per session\\n\\nHTML, CSS, JavaScript Essentials: 5-Day Coding Bootcamp\\n\\nUnleash your creativity in our fun and interactive 5-day summer camp. No prior experience needed. Yo\\n\\n5 Lessons\\n\\nView Details\\n\\nWorking to bring significant changes in online-based learning by doing extensive research for course curriculum preparation, student engagements, and looking forward to the flexible education!\\n\\nExplore\\n\\nHome\\n\\nCourses\\n\\nGift a Course\\n\\nShare a Message\\n\\nResources\\n\\nFAQ\\n\\nContact\\n\\nAddress\\n\\nUSA\\n\\n(+1) 414 429 3937\\n\\nsupport@brainlox.com\\n\\n(+1) 414 429 3937\\n\\n2025 Brainlox\\n\\nPrivacy Policy\\n\\nTerms & Conditions')],\n",
       " 'answer': 'There are 41 lessons in the LEARN CORE JAVA PROGRAMMING ONLINE course.\\n'}"
      ]
     },
     "execution_count": 24,
     "metadata": {},
     "output_type": "execute_result"
    }
   ],
   "source": [
    "response=rag_chain.invoke({\"input\":\"How many lessons are there in LEARN CORE JAVA PROGRAMMING ONLINE\"})\n",
    "response"
   ]
  },
  {
   "cell_type": "code",
   "execution_count": null,
   "metadata": {},
   "outputs": [],
   "source": []
  }
 ],
 "metadata": {
  "kernelspec": {
   "display_name": "Langchain",
   "language": "python",
   "name": "python3"
  },
  "language_info": {
   "codemirror_mode": {
    "name": "ipython",
    "version": 3
   },
   "file_extension": ".py",
   "mimetype": "text/x-python",
   "name": "python",
   "nbconvert_exporter": "python",
   "pygments_lexer": "ipython3",
   "version": "3.12.0"
  }
 },
 "nbformat": 4,
 "nbformat_minor": 2
}
